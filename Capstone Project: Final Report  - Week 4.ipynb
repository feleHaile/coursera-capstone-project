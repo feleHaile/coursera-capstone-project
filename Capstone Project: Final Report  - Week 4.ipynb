{
    "nbformat_minor": 1, 
    "cells": [
        {
            "source": "# Capstone Project: Final Report", 
            "cell_type": "markdown", 
            "metadata": {
                "collapsed": true
            }
        }, 
        {
            "source": "## Introduction", 
            "cell_type": "markdown", 
            "metadata": {}
        }, 
        {
            "source": "In this notebook I will create a final report from scratch, since the description of a inicial problem to the result of analysis.", 
            "cell_type": "markdown", 
            "metadata": {}
        }, 
        {
            "source": "## Table of Contents\n\n1. Introduction/Business Problem\n2. Data\n", 
            "cell_type": "markdown", 
            "metadata": {}
        }, 
        {
            "source": "## 1. Introduction/Business Problem", 
            "cell_type": "markdown", 
            "metadata": {}
        }, 
        {
            "source": "The neighborhoods in a city are very diversificated, but we can cluster them in a way that are possible to identify patterns in what venues are most common in each group of similar neighborhoods. This will be especially important to us, because we are contracted to determine where should be open a baseball\u2019s stuff shop in the city of Toronto. So we will identify where are the neighborhoods that will have a stablished potencial consumers based in the atual venues nearest. This will be important to give the entrepreneur the best chances to have succed with him shop and have a better return for him investment.", 
            "cell_type": "markdown", 
            "metadata": {}
        }, 
        {
            "source": "## 2. Data", 
            "cell_type": "markdown", 
            "metadata": {}
        }, 
        {
            "source": "The data we will use to solve the problem presented above will be the table contained in the Wikipedia page https://en.wikipedia.org/wiki/List_of_postal_codes_of_Canada:_M in wich we will extract the postal codes, boroughs and neighborhoods of Toronto, Canada. And with geospatial data provided in the csv http://cocl.us/Geospatial_data from the Capstone Project course of Coursera and IBM we will append the latitude and longitude from postal codes to our table previously extracted. Finally we will use the location data from Foursquare to identify wich categories of venues are more contained in each neighborhood to then clustering this data and so identify the principals caregories of venues contained in each neighborhood\u2019s cluster. This will permit make a decision about where open the baseball's stuff store.", 
            "cell_type": "markdown", 
            "metadata": {}
        }, 
        {
            "source": "", 
            "cell_type": "code", 
            "metadata": {}, 
            "outputs": [], 
            "execution_count": null
        }
    ], 
    "metadata": {
        "kernelspec": {
            "display_name": "Python 3.5", 
            "name": "python3", 
            "language": "python"
        }, 
        "language_info": {
            "mimetype": "text/x-python", 
            "nbconvert_exporter": "python", 
            "version": "3.5.5", 
            "name": "python", 
            "file_extension": ".py", 
            "pygments_lexer": "ipython3", 
            "codemirror_mode": {
                "version": 3, 
                "name": "ipython"
            }
        }
    }, 
    "nbformat": 4
}